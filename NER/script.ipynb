{
 "cells": [
  {
   "cell_type": "code",
   "execution_count": 12,
   "metadata": {
    "collapsed": false
   },
   "outputs": [],
   "source": [
    "import numpy as np \n",
    "import jieba\n",
    "\n",
    "W2V_PATH = '/Users/mac/Desktop/wiki.zh/wiki.zh.vec'\n",
    "def load_word2vec_embedding(path=W2V_PATH):\n",
    "    embeddings_index = {}\n",
    "    f = open(path)\n",
    "    for line in f:\n",
    "        values = line.split()\n",
    "        word = values[0]  # 取词\n",
    "        coefs = np.asarray(values[1:], dtype='float32')  # 取向量\n",
    "        embeddings_index[word] = coefs  # 将词和对应的向量存到字典里\n",
    "    f.close()\n",
    "    return embeddings_index\n"
   ]
  },
  {
   "cell_type": "code",
   "execution_count": 4,
   "metadata": {
    "collapsed": true
   },
   "outputs": [],
   "source": [
    "embeddings_index=load_word2vec_embedding()"
   ]
  },
  {
   "cell_type": "code",
   "execution_count": 5,
   "metadata": {
    "collapsed": false
   },
   "outputs": [
    {
     "name": "stdout",
     "output_type": "stream",
     "text": [
      "528898\n"
     ]
    }
   ],
   "source": [
    "print len(embeddings_index)"
   ]
  },
  {
   "cell_type": "code",
   "execution_count": 7,
   "metadata": {
    "collapsed": true
   },
   "outputs": [],
   "source": [
    "DATA_PATH = 'ner_trn'\n",
    "\n",
    "def sent_targets():\n",
    "    sentences = []\n",
    "    tags = []\n",
    "    uni_tags = set()\n",
    "    with open(DATA_PATH, 'r') as corpus:\n",
    "        sentence = []\n",
    "        tag = []\n",
    "        for line in corpus.readlines():\n",
    "            line = line.strip()\n",
    "            if line == '':\n",
    "                sentences.append(sentence)\n",
    "                tags.append(tag)\n",
    "                sentence = []\n",
    "                tag = []\n",
    "            else:\n",
    "                word, t = line.split(\" \")\n",
    "                sentence.append(word)\n",
    "                tag.append(t)\n",
    "                uni_tags.add(t)\n",
    "\n",
    "    return sentences, tags, uni_tags\n",
    "sentences, tags, uni_tags = sent_targets()"
   ]
  },
  {
   "cell_type": "code",
   "execution_count": 23,
   "metadata": {
    "collapsed": false
   },
   "outputs": [
    {
     "name": "stdout",
     "output_type": "stream",
     "text": [
      "新华社 True\n",
      "北京 True\n",
      "六月 True\n",
      "十日 False\n",
      "电 True\n",
      "中宣部 True\n",
      "、 True\n",
      "教育部 True\n",
      "、 True\n",
      "团中央 False\n",
      "和 True\n",
      "全国学联 False\n",
      "近日 False\n",
      "联合 True\n",
      "发出通知 False\n",
      "， True\n",
      "决定 True\n",
      "今年 True\n",
      "暑期 False\n",
      "继续 True\n",
      "深入开展 False\n",
      "大中学生 False\n",
      "志愿者 True\n",
      "文化 True\n",
      "、 True\n",
      "科技 True\n",
      "、 True\n",
      "卫生 True\n",
      "『 True\n",
      "三下乡 True\n",
      "』 True\n",
      "活动 True\n",
      "。 True\n",
      "\n"
     ]
    }
   ],
   "source": [
    "for sentence in sentences:\n",
    "    words = jieba.cut(''.join(sentence))\n",
    "    for w in words:\n",
    "        w = w.encode('utf8')\n",
    "        if embeddings_index.get(w) is not None:\n",
    "            print w, 'True'\n",
    "        else:\n",
    "            print w, 'False'\n",
    "    \n",
    "    print ' '.join(words)\n",
    "    break\n"
   ]
  },
  {
   "cell_type": "code",
   "execution_count": null,
   "metadata": {
    "collapsed": false
   },
   "outputs": [],
   "source": []
  },
  {
   "cell_type": "code",
   "execution_count": null,
   "metadata": {
    "collapsed": true
   },
   "outputs": [],
   "source": []
  }
 ],
 "metadata": {
  "kernelspec": {
   "display_name": "Python 2",
   "language": "python",
   "name": "python2"
  },
  "language_info": {
   "codemirror_mode": {
    "name": "ipython",
    "version": 2
   },
   "file_extension": ".py",
   "mimetype": "text/x-python",
   "name": "python",
   "nbconvert_exporter": "python",
   "pygments_lexer": "ipython2",
   "version": "2.7.10"
  }
 },
 "nbformat": 4,
 "nbformat_minor": 0
}
